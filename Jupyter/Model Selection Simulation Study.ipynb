{
 "cells": [
  {
   "cell_type": "code",
   "execution_count": 1,
   "id": "49f0664b-6d06-432e-a929-35a2000311f7",
   "metadata": {},
   "outputs": [],
   "source": [
    "# ****************************************\n",
    "# Variable Selection Simulation Study\n",
    "# \n",
    "# Jupyter Notebook Interactive Demonstration!\n",
    "# \n",
    "# Emma Tarmey\n",
    "#\n",
    "# Started:          03/10/2023\n",
    "# Most Recent Edit: 02/11/2023\n",
    "# ****************************************\n",
    "\n"
   ]
  },
  {
   "cell_type": "code",
   "execution_count": 2,
   "id": "c12f5855-072a-4621-869f-05fb8604143c",
   "metadata": {},
   "outputs": [
    {
     "data": {
      "text/html": [
       "'/home/aa22294/Desktop/PhD - Computational Statistics/Projects/Model Selection Sim Study/Code/Jupyter'"
      ],
      "text/latex": [
       "'/home/aa22294/Desktop/PhD - Computational Statistics/Projects/Model Selection Sim Study/Code/Jupyter'"
      ],
      "text/markdown": [
       "'/home/aa22294/Desktop/PhD - Computational Statistics/Projects/Model Selection Sim Study/Code/Jupyter'"
      ],
      "text/plain": [
       "[1] \"/home/aa22294/Desktop/PhD - Computational Statistics/Projects/Model Selection Sim Study/Code/Jupyter\""
      ]
     },
     "metadata": {},
     "output_type": "display_data"
    }
   ],
   "source": [
    "# sanity check file location\n",
    "getwd()\n"
   ]
  },
  {
   "cell_type": "code",
   "execution_count": 3,
   "id": "3e8e8c41-589a-415d-80f4-34bc304fa47e",
   "metadata": {},
   "outputs": [],
   "source": [
    "# pull from R file\n",
    "source(\"../R/simulation.R\")\n",
    "#file.show(\"simulation.R\")\n"
   ]
  },
  {
   "cell_type": "code",
   "execution_count": 4,
   "id": "d286955d-e629-4985-8b30-592855cef05b",
   "metadata": {},
   "outputs": [
    {
     "name": "stderr",
     "output_type": "stream",
     "text": [
      "Scenario  1 / 4\n",
      "\n",
      "Scenario  2 / 4\n",
      "\n",
      "Scenario  3 / 4\n",
      "\n",
      "Scenario  4 / 4\n",
      "\n"
     ]
    }
   ],
   "source": [
    "# run simulation\n",
    "# S = number of scenarios\n",
    "# N = repetitions for this scenario\n",
    "# M = number of VS techniques under investigation \n",
    "# p = number of variables in data (includes id, excludes intercept and outcome y)\n",
    "# n = synthetic data-set size\n",
    "\n",
    "run.simulation(S = 4,\n",
    "               N = 1000,\n",
    "               M = 6,\n",
    "               p = 6,\n",
    "               n = 10000,\n",
    "               mech.missing = \"MCAR\",\n",
    "               prop.missing = 0.2,\n",
    "               messages     = FALSE)\n"
   ]
  },
  {
   "cell_type": "code",
   "execution_count": 5,
   "id": "986ef0af-0b44-40fc-83e2-c7a1a677ac51",
   "metadata": {},
   "outputs": [
    {
     "name": "stderr",
     "output_type": "stream",
     "text": [
      "\n",
      "\n",
      "Raw Bias Values:\n",
      "\n",
      "\n",
      "\n",
      "\n",
      "Mean Bias of each VS Technique for each Parameter estimate:\n",
      "\n",
      "\n",
      "\n",
      "Scenario = 1, N = 1000\n",
      "\n",
      "\n",
      "\n",
      "Scenario = 2, N = 1000\n",
      "\n",
      "\n",
      "\n",
      "Scenario = 3, N = 1000\n",
      "\n",
      "\n",
      "\n",
      "Scenario = 4, N = 1000\n",
      "\n"
     ]
    },
    {
     "data": {
      "text/plain": [
       "\n",
       "\n",
       "|Technique |Variable |   BiasMean|    BiasSD|\n",
       "|:---------|:--------|----------:|---------:|\n",
       "|linear    |id       |  0.0000000| 0.0000224|\n",
       "|lasso     |id       |  0.0000000| 0.0000006|\n",
       "|ridge     |id       |  0.0000943| 0.0000188|\n",
       "|scad      |id       |  0.0000002| 0.0000098|\n",
       "|mcp       |id       |  0.0000002| 0.0000098|\n",
       "|stepwise  |id       |  0.0000000| 0.0000224|\n",
       "|linear    |c.1      | -0.0009753| 0.0274231|\n",
       "|lasso     |c.1      |  0.0001950| 0.0016002|\n",
       "|ridge     |c.1      |  0.2594338| 0.0220012|\n",
       "|scad      |c.1      | -0.0004431| 0.0130341|\n",
       "|mcp       |c.1      | -0.0004431| 0.0130341|\n",
       "|stepwise  |c.1      | -0.0009753| 0.0274231|\n",
       "|linear    |c.2      |  0.0010376| 0.0257469|\n",
       "|lasso     |c.2      |  0.0000011| 0.0000279|\n",
       "|ridge     |c.2      |  0.1316157| 0.0225500|\n",
       "|scad      |c.2      |  0.0003240| 0.0104077|\n",
       "|mcp       |c.2      |  0.0003240| 0.0104077|\n",
       "|stepwise  |c.2      |  0.0010376| 0.0257469|\n",
       "|linear    |x.1      |  0.0002507| 0.0085478|\n",
       "|lasso     |x.1      | -0.0316221| 0.0086030|\n",
       "|ridge     |x.1      | -0.4256509| 0.0065475|\n",
       "|scad      |x.1      |  0.0002529| 0.0085513|\n",
       "|mcp       |x.1      |  0.0002529| 0.0085513|\n",
       "|stepwise  |x.1      |  0.0002507| 0.0085478|\n",
       "|linear    |x.2      | -0.0003579| 0.0256979|\n",
       "|lasso     |x.2      |  0.0306945| 0.0128136|\n",
       "|ridge     |x.2      |  0.0896181| 0.0156947|\n",
       "|scad      |x.2      | -0.0003813| 0.0256804|\n",
       "|mcp       |x.2      | -0.0003813| 0.0256804|\n",
       "|stepwise  |x.2      | -0.0003579| 0.0256979|\n",
       "|linear    |x.3      | -0.0001384| 0.0186738|\n",
       "|lasso     |x.3      | -0.0326328| 0.0166517|\n",
       "|ridge     |x.3      | -0.2445441| 0.0161914|\n",
       "|scad      |x.3      | -0.0001484| 0.0186712|\n",
       "|mcp       |x.3      | -0.0001484| 0.0186712|\n",
       "|stepwise  |x.3      | -0.0001384| 0.0186738|"
      ]
     },
     "metadata": {},
     "output_type": "display_data"
    },
    {
     "data": {
      "text/plain": [
       "\n",
       "\n",
       "|Technique |Variable |   BiasMean|    BiasSD|\n",
       "|:---------|:--------|----------:|---------:|\n",
       "|linear    |id       | -0.0000001| 0.0000228|\n",
       "|lasso     |id       |  0.0000008| 0.0000040|\n",
       "|ridge     |id       |  0.0000855| 0.0000190|\n",
       "|scad      |id       |  0.0000003| 0.0000107|\n",
       "|mcp       |id       |  0.0000003| 0.0000107|\n",
       "|stepwise  |id       | -0.0000001| 0.0000228|\n",
       "|linear    |c.1      |  0.0005074| 0.0415138|\n",
       "|lasso     |c.1      |  0.0548909| 0.0365868|\n",
       "|ridge     |c.1      |  0.3447449| 0.0199500|\n",
       "|scad      |c.1      |  0.0004282| 0.0176848|\n",
       "|mcp       |c.1      |  0.0004282| 0.0176848|\n",
       "|stepwise  |c.1      |  0.0005074| 0.0415138|\n",
       "|linear    |c.2      |  0.0007822| 0.0264786|\n",
       "|lasso     |c.2      |  0.0010365| 0.0043675|\n",
       "|ridge     |c.2      |  0.1197065| 0.0224650|\n",
       "|scad      |c.2      | -0.0000988| 0.0122576|\n",
       "|mcp       |c.2      | -0.0000988| 0.0122576|\n",
       "|stepwise  |c.2      |  0.0007822| 0.0264786|\n",
       "|linear    |x.1      | -0.0001414| 0.0087834|\n",
       "|lasso     |x.1      | -0.0200756| 0.0087596|\n",
       "|ridge     |x.1      | -0.2813145| 0.0073681|\n",
       "|scad      |x.1      | -0.0001601| 0.0087691|\n",
       "|mcp       |x.1      | -0.0001601| 0.0087691|\n",
       "|stepwise  |x.1      | -0.0001414| 0.0087834|\n",
       "|linear    |x.2      | -0.0009003| 0.0669147|\n",
       "|lasso     |x.2      | -0.1045389| 0.0638328|\n",
       "|ridge     |x.2      | -0.3013854| 0.0332831|\n",
       "|scad      |x.2      | -0.0008538| 0.0481312|\n",
       "|mcp       |x.2      | -0.0008538| 0.0481312|\n",
       "|stepwise  |x.2      | -0.0009003| 0.0669147|\n",
       "|linear    |x.3      | -0.0004976| 0.0191094|\n",
       "|lasso     |x.3      |  0.0012685| 0.0129138|\n",
       "|ridge     |x.3      | -0.1180466| 0.0129413|\n",
       "|scad      |x.3      | -0.0004702| 0.0191076|\n",
       "|mcp       |x.3      | -0.0004702| 0.0191076|\n",
       "|stepwise  |x.3      | -0.0004976| 0.0191094|"
      ]
     },
     "metadata": {},
     "output_type": "display_data"
    },
    {
     "data": {
      "text/plain": [
       "\n",
       "\n",
       "|Technique |Variable |   BiasMean|    BiasSD|\n",
       "|:---------|:--------|----------:|---------:|\n",
       "|linear    |id       |  0.0000002| 0.0000077|\n",
       "|lasso     |id       |  0.0000000| 0.0000001|\n",
       "|ridge     |id       |  0.0000653| 0.0000069|\n",
       "|scad      |id       |  0.0000000| 0.0000000|\n",
       "|mcp       |id       |  0.0000000| 0.0000000|\n",
       "|stepwise  |id       |  0.0000002| 0.0000077|\n",
       "|linear    |c.1      |  0.0000511| 0.0093955|\n",
       "|lasso     |c.1      |  0.0164091| 0.0074346|\n",
       "|ridge     |c.1      |  0.2163311| 0.0078020|\n",
       "|scad      |c.1      |  0.0000000| 0.0000000|\n",
       "|mcp       |c.1      |  0.0000000| 0.0000000|\n",
       "|stepwise  |c.1      |  0.0000511| 0.0093955|\n",
       "|linear    |c.2      | -0.0001261| 0.0088400|\n",
       "|lasso     |c.2      |  0.0000308| 0.0004010|\n",
       "|ridge     |c.2      |  0.0900983| 0.0079759|\n",
       "|scad      |c.2      |  0.0000006| 0.0000134|\n",
       "|mcp       |c.2      |  0.0000006| 0.0000134|\n",
       "|stepwise  |c.2      | -0.0001261| 0.0088400|\n",
       "|linear    |x.1      | -0.0001019| 0.0222234|\n",
       "|lasso     |x.1      | -0.0743404| 0.0221646|\n",
       "|ridge     |x.1      | -0.2715574| 0.0200673|\n",
       "|scad      |x.1      | -0.0000384| 0.0211943|\n",
       "|mcp       |x.1      | -0.0000384| 0.0211943|\n",
       "|stepwise  |x.1      | -0.0001019| 0.0222234|\n",
       "|linear    |x.2      | -0.0003389| 0.0228689|\n",
       "|lasso     |x.2      | -0.0917777| 0.0228434|\n",
       "|ridge     |x.2      | -0.2874367| 0.0211577|\n",
       "|scad      |x.2      | -0.0003532| 0.0226182|\n",
       "|mcp       |x.2      | -0.0003532| 0.0226182|\n",
       "|stepwise  |x.2      | -0.0003389| 0.0228689|\n",
       "|linear    |x.3      |  0.0003031| 0.0059937|\n",
       "|lasso     |x.3      | -0.0018865| 0.0043248|\n",
       "|ridge     |x.3      | -0.1697529| 0.0047725|\n",
       "|scad      |x.3      |  0.0003004| 0.0059801|\n",
       "|mcp       |x.3      |  0.0003004| 0.0059801|\n",
       "|stepwise  |x.3      |  0.0003031| 0.0059937|"
      ]
     },
     "metadata": {},
     "output_type": "display_data"
    },
    {
     "data": {
      "text/plain": [
       "\n",
       "\n",
       "|Technique |Variable |   BiasMean|    BiasSD|\n",
       "|:---------|:--------|----------:|---------:|\n",
       "|linear    |id       | -0.0000003| 0.0000075|\n",
       "|lasso     |id       |  0.0000000| 0.0000000|\n",
       "|ridge     |id       |  0.0000604| 0.0000068|\n",
       "|scad      |id       |  0.0000000| 0.0000000|\n",
       "|mcp       |id       |  0.0000000| 0.0000000|\n",
       "|stepwise  |id       | -0.0000003| 0.0000075|\n",
       "|linear    |c.1      |  0.0001676| 0.0114853|\n",
       "|lasso     |c.1      |  0.0106965| 0.0094578|\n",
       "|ridge     |c.1      |  0.1456737| 0.0079487|\n",
       "|scad      |c.1      |  0.0000000| 0.0000000|\n",
       "|mcp       |c.1      |  0.0000000| 0.0000000|\n",
       "|stepwise  |c.1      |  0.0001676| 0.0114853|\n",
       "|linear    |c.2      | -0.0003215| 0.0089874|\n",
       "|lasso     |c.2      |  0.0000419| 0.0004981|\n",
       "|ridge     |c.2      |  0.1033448| 0.0081122|\n",
       "|scad      |c.2      |  0.0000000| 0.0000000|\n",
       "|mcp       |c.2      |  0.0000000| 0.0000000|\n",
       "|stepwise  |c.2      | -0.0003215| 0.0089874|\n",
       "|linear    |x.1      | -0.0028213| 0.0774481|\n",
       "|lasso     |x.1      | -0.0360572| 0.0668850|\n",
       "|ridge     |x.1      |  0.3858466| 0.0514244|\n",
       "|scad      |x.1      | -0.0021181| 0.0586953|\n",
       "|mcp       |x.1      | -0.0021181| 0.0586953|\n",
       "|stepwise  |x.1      | -0.0028213| 0.0774481|\n",
       "|linear    |x.2      |  0.0001438| 0.0225188|\n",
       "|lasso     |x.2      | -0.1126829| 0.0217144|\n",
       "|ridge     |x.2      | -0.2855793| 0.0199056|\n",
       "|scad      |x.2      | -0.0000054| 0.0213078|\n",
       "|mcp       |x.2      | -0.0000054| 0.0213078|\n",
       "|stepwise  |x.2      |  0.0001438| 0.0225188|\n",
       "|linear    |x.3      |  0.0001558| 0.0059168|\n",
       "|lasso     |x.3      |  0.0019190| 0.0043990|\n",
       "|ridge     |x.3      | -0.1800434| 0.0050417|\n",
       "|scad      |x.3      |  0.0001684| 0.0059069|\n",
       "|mcp       |x.3      |  0.0001684| 0.0059069|\n",
       "|stepwise  |x.3      |  0.0001558| 0.0059168|"
      ]
     },
     "metadata": {},
     "output_type": "display_data"
    },
    {
     "name": "stdout",
     "output_type": "stream",
     "text": [
      "[1] 36\n",
      "[1] 4\n",
      "[1] NA\n"
     ]
    },
    {
     "name": "stderr",
     "output_type": "stream",
     "text": [
      "\n",
      "\n",
      "Changing plot `p1`\n",
      "\n",
      "Changing plot `p2`\n",
      "\n",
      "Changing plot `p3`\n",
      "\n",
      "Changing plot `p4`\n",
      "\n"
     ]
    },
    {
     "name": "stdout",
     "output_type": "stream",
     "text": [
      "[1] \"/home/aa22294/Desktop/PhD - Computational Statistics/Projects/Model Selection Sim Study/Code/R\"\n"
     ]
    },
    {
     "data": {
      "text/html": [
       "<strong>png:</strong> 2"
      ],
      "text/latex": [
       "\\textbf{png:} 2"
      ],
      "text/markdown": [
       "**png:** 2"
      ],
      "text/plain": [
       "png \n",
       "  2 "
      ]
     },
     "metadata": {},
     "output_type": "display_data"
    }
   ],
   "source": [
    "source(\"interpret_bias_results.R\")\n",
    "\n",
    "all.results <- get.results.data()\n",
    "\n",
    "bias.results.s1 <- all.results[[1]]\n",
    "bias.results.s2 <- all.results[[2]]\n",
    "bias.results.s3 <- all.results[[3]]\n",
    "bias.results.s4 <- all.results[[4]]\n",
    "\n",
    "coef.results.s1 <- all.results[[5]]\n",
    "coef.results.s2 <- all.results[[6]]\n",
    "coef.results.s3 <- all.results[[7]]\n",
    "coef.results.s4 <- all.results[[8]]\n",
    "\n",
    "all.means <- bias.tables(bias.results.s1, bias.results.s2, bias.results.s3, bias.results.s4,\n",
    "                         coef.results.s1, coef.results.s2, coef.results.s3, coef.results.s4)\n",
    "\n",
    "s1.bias.means <- all.means[[1]]\n",
    "s2.bias.means <- all.means[[2]]\n",
    "s3.bias.means <- all.means[[3]]\n",
    "s4.bias.means <- all.means[[4]]\n",
    "\n",
    "s1.bias.means %>% knitr::kable()\n",
    "s2.bias.means %>% knitr::kable()\n",
    "s3.bias.means %>% knitr::kable()\n",
    "s4.bias.means %>% knitr::kable()\n",
    "\n",
    "bias.plots(s1.bias.means, s2.bias.means, s3.bias.means, s4.bias.means)\n",
    "\n"
   ]
  },
  {
   "cell_type": "code",
   "execution_count": 6,
   "id": "c0945f4e-f4f1-426a-9744-3b7e27d5871a",
   "metadata": {},
   "outputs": [
    {
     "data": {
      "image/png": "[encoded data removed]",
      "text/plain": [
       "plot without title"
      ]
     },
     "metadata": {
      "image/png": {
       "height": 420,
       "width": 420
      }
     },
     "output_type": "display_data"
    },
    {
     "data": {
      "image/png": "[encoded data removed]",
      "text/plain": [
       "plot without title"
      ]
     },
     "metadata": {
      "image/png": {
       "height": 420,
       "width": 420
      }
     },
     "output_type": "display_data"
    },
    {
     "data": {
      "image/png": "[encoded data removed]",
      "text/plain": [
       "plot without title"
      ]
     },
     "metadata": {
      "image/png": {
       "height": 420,
       "width": 420
      }
     },
     "output_type": "display_data"
    },
    {
     "data": {
      "image/png": "[encoded data removed]",
      "text/plain": [
       "plot without title"
      ]
     },
     "metadata": {
      "image/png": {
       "height": 420,
       "width": 420
      }
     },
     "output_type": "display_data"
    }
   ],
   "source": [
    "library(\"png\")\n",
    "\n",
    "plot.new()\n",
    "pp <- readPNG(\"../plots/bias_s1.png\")\n",
    "rasterImage(pp, 0.00, 0.00, 1.00, 1.00)\n",
    "\n",
    "plot.new()\n",
    "pp <- readPNG(\"../plots/bias_s2.png\")\n",
    "rasterImage(pp, 0.00, 0.00, 1.00, 1.00)\n",
    "\n",
    "plot.new()\n",
    "pp <- readPNG(\"../plots/bias_s3.png\") \n",
    "rasterImage(pp, 0.00, 0.00, 1.00, 1.00)\n",
    "\n",
    "plot.new()\n",
    "pp <- readPNG(\"../plots/bias_s4.png\")\n",
    "rasterImage(pp, 0.00, 0.00, 1.00, 1.00)\n"
   ]
  },
  {
   "cell_type": "code",
   "execution_count": 7,
   "id": "4940e8d2-ada9-4a36-8d7b-d824201d993d",
   "metadata": {},
   "outputs": [
    {
     "name": "stderr",
     "output_type": "stream",
     "text": [
      "\n",
      "\n",
      " linear  Parameter Estimates for each Scenario\n",
      "\n"
     ]
    },
    {
     "data": {
      "text/plain": [
       "\n",
       "\n",
       "|Variable | True|       Mean|        SD|   BiasMean|    BiasSD|\n",
       "|:--------|----:|----------:|---------:|----------:|---------:|\n",
       "|id       |    0|  0.0000000| 0.0000224|  0.0000000| 0.0000224|\n",
       "|c.1      |    0| -0.0009753| 0.0274231| -0.0009753| 0.0274231|\n",
       "|c.2      |    0|  0.0010376| 0.0257469|  0.0010376| 0.0257469|\n",
       "|x.1      |    1|  1.0002507| 0.0085478|  0.0002507| 0.0085478|\n",
       "|x.2      |    1|  0.9996421| 0.0256979| -0.0003579| 0.0256979|\n",
       "|x.3      |    1|  0.9998616| 0.0186738| -0.0001384| 0.0186738|"
      ]
     },
     "metadata": {},
     "output_type": "display_data"
    },
    {
     "data": {
      "text/plain": [
       "\n",
       "\n",
       "|Variable | True|       Mean|        SD|   BiasMean|    BiasSD|\n",
       "|:--------|----:|----------:|---------:|----------:|---------:|\n",
       "|id       |    0| -0.0000001| 0.0000228| -0.0000001| 0.0000228|\n",
       "|c.1      |    0|  0.0005074| 0.0415138|  0.0005074| 0.0415138|\n",
       "|c.2      |    0|  0.0007822| 0.0264786|  0.0007822| 0.0264786|\n",
       "|x.1      |    1|  0.9998586| 0.0087834| -0.0001414| 0.0087834|\n",
       "|x.2      |    1|  0.9990997| 0.0669147| -0.0009003| 0.0669147|\n",
       "|x.3      |    1|  0.9995024| 0.0191094| -0.0004976| 0.0191094|"
      ]
     },
     "metadata": {},
     "output_type": "display_data"
    },
    {
     "data": {
      "text/plain": [
       "\n",
       "\n",
       "|Variable | True|       Mean|        SD|   BiasMean|    BiasSD|\n",
       "|:--------|----:|----------:|---------:|----------:|---------:|\n",
       "|id       |    0|  0.0000002| 0.0000077|  0.0000002| 0.0000077|\n",
       "|c.1      |    0|  0.0000511| 0.0093955|  0.0000511| 0.0093955|\n",
       "|c.2      |    0| -0.0001261| 0.0088400| -0.0001261| 0.0088400|\n",
       "|x.1      |    1|  0.9998981| 0.0222234| -0.0001019| 0.0222234|\n",
       "|x.2      |    1|  0.9996611| 0.0228689| -0.0003389| 0.0228689|\n",
       "|x.3      |    1|  1.0003031| 0.0059937|  0.0003031| 0.0059937|"
      ]
     },
     "metadata": {},
     "output_type": "display_data"
    },
    {
     "data": {
      "text/plain": [
       "\n",
       "\n",
       "|Variable | True|       Mean|        SD|   BiasMean|    BiasSD|\n",
       "|:--------|----:|----------:|---------:|----------:|---------:|\n",
       "|id       |    0| -0.0000003| 0.0000075| -0.0000003| 0.0000075|\n",
       "|c.1      |    0|  0.0001676| 0.0114853|  0.0001676| 0.0114853|\n",
       "|c.2      |    0| -0.0003215| 0.0089874| -0.0003215| 0.0089874|\n",
       "|x.1      |    1|  0.9971787| 0.0774481| -0.0028213| 0.0774481|\n",
       "|x.2      |    1|  1.0001438| 0.0225188|  0.0001438| 0.0225188|\n",
       "|x.3      |    1|  1.0001558| 0.0059168|  0.0001558| 0.0059168|"
      ]
     },
     "metadata": {},
     "output_type": "display_data"
    },
    {
     "name": "stderr",
     "output_type": "stream",
     "text": [
      "\n",
      "\n",
      " lasso  Parameter Estimates for each Scenario\n",
      "\n"
     ]
    },
    {
     "data": {
      "text/plain": [
       "\n",
       "\n",
       "|Variable | True|      Mean|        SD|   BiasMean|    BiasSD|\n",
       "|:--------|----:|---------:|---------:|----------:|---------:|\n",
       "|id       |    0| 0.0000000| 0.0000006|  0.0000000| 0.0000006|\n",
       "|c.1      |    0| 0.0001950| 0.0016002|  0.0001950| 0.0016002|\n",
       "|c.2      |    0| 0.0000011| 0.0000279|  0.0000011| 0.0000279|\n",
       "|x.1      |    1| 0.9683779| 0.0086030| -0.0316221| 0.0086030|\n",
       "|x.2      |    1| 1.0306945| 0.0128136|  0.0306945| 0.0128136|\n",
       "|x.3      |    1| 0.9673672| 0.0166517| -0.0326328| 0.0166517|"
      ]
     },
     "metadata": {},
     "output_type": "display_data"
    },
    {
     "data": {
      "text/plain": [
       "\n",
       "\n",
       "|Variable | True|      Mean|        SD|   BiasMean|    BiasSD|\n",
       "|:--------|----:|---------:|---------:|----------:|---------:|\n",
       "|id       |    0| 0.0000008| 0.0000040|  0.0000008| 0.0000040|\n",
       "|c.1      |    0| 0.0548909| 0.0365868|  0.0548909| 0.0365868|\n",
       "|c.2      |    0| 0.0010365| 0.0043675|  0.0010365| 0.0043675|\n",
       "|x.1      |    1| 0.9799244| 0.0087596| -0.0200756| 0.0087596|\n",
       "|x.2      |    1| 0.8954611| 0.0638328| -0.1045389| 0.0638328|\n",
       "|x.3      |    1| 1.0012685| 0.0129138|  0.0012685| 0.0129138|"
      ]
     },
     "metadata": {},
     "output_type": "display_data"
    },
    {
     "data": {
      "text/plain": [
       "\n",
       "\n",
       "|Variable | True|      Mean|        SD|   BiasMean|    BiasSD|\n",
       "|:--------|----:|---------:|---------:|----------:|---------:|\n",
       "|id       |    0| 0.0000000| 0.0000001|  0.0000000| 0.0000001|\n",
       "|c.1      |    0| 0.0164091| 0.0074346|  0.0164091| 0.0074346|\n",
       "|c.2      |    0| 0.0000308| 0.0004010|  0.0000308| 0.0004010|\n",
       "|x.1      |    1| 0.9256596| 0.0221646| -0.0743404| 0.0221646|\n",
       "|x.2      |    1| 0.9082223| 0.0228434| -0.0917777| 0.0228434|\n",
       "|x.3      |    1| 0.9981135| 0.0043248| -0.0018865| 0.0043248|"
      ]
     },
     "metadata": {},
     "output_type": "display_data"
    },
    {
     "data": {
      "text/plain": [
       "\n",
       "\n",
       "|Variable | True|      Mean|        SD|   BiasMean|    BiasSD|\n",
       "|:--------|----:|---------:|---------:|----------:|---------:|\n",
       "|id       |    0| 0.0000000| 0.0000000|  0.0000000| 0.0000000|\n",
       "|c.1      |    0| 0.0106965| 0.0094578|  0.0106965| 0.0094578|\n",
       "|c.2      |    0| 0.0000419| 0.0004981|  0.0000419| 0.0004981|\n",
       "|x.1      |    1| 0.9639428| 0.0668850| -0.0360572| 0.0668850|\n",
       "|x.2      |    1| 0.8873171| 0.0217144| -0.1126829| 0.0217144|\n",
       "|x.3      |    1| 1.0019190| 0.0043990|  0.0019190| 0.0043990|"
      ]
     },
     "metadata": {},
     "output_type": "display_data"
    },
    {
     "name": "stderr",
     "output_type": "stream",
     "text": [
      "\n",
      "\n",
      " ridge  Parameter Estimates for each Scenario\n",
      "\n"
     ]
    },
    {
     "data": {
      "text/plain": [
       "\n",
       "\n",
       "|Variable | True|      Mean|        SD|   BiasMean|    BiasSD|\n",
       "|:--------|----:|---------:|---------:|----------:|---------:|\n",
       "|id       |    0| 0.0000943| 0.0000188|  0.0000943| 0.0000188|\n",
       "|c.1      |    0| 0.2594338| 0.0220012|  0.2594338| 0.0220012|\n",
       "|c.2      |    0| 0.1316157| 0.0225500|  0.1316157| 0.0225500|\n",
       "|x.1      |    1| 0.5743491| 0.0065475| -0.4256509| 0.0065475|\n",
       "|x.2      |    1| 1.0896181| 0.0156947|  0.0896181| 0.0156947|\n",
       "|x.3      |    1| 0.7554559| 0.0161914| -0.2445441| 0.0161914|"
      ]
     },
     "metadata": {},
     "output_type": "display_data"
    },
    {
     "data": {
      "text/plain": [
       "\n",
       "\n",
       "|Variable | True|      Mean|        SD|   BiasMean|    BiasSD|\n",
       "|:--------|----:|---------:|---------:|----------:|---------:|\n",
       "|id       |    0| 0.0000855| 0.0000190|  0.0000855| 0.0000190|\n",
       "|c.1      |    0| 0.3447449| 0.0199500|  0.3447449| 0.0199500|\n",
       "|c.2      |    0| 0.1197065| 0.0224650|  0.1197065| 0.0224650|\n",
       "|x.1      |    1| 0.7186855| 0.0073681| -0.2813145| 0.0073681|\n",
       "|x.2      |    1| 0.6986146| 0.0332831| -0.3013854| 0.0332831|\n",
       "|x.3      |    1| 0.8819534| 0.0129413| -0.1180466| 0.0129413|"
      ]
     },
     "metadata": {},
     "output_type": "display_data"
    },
    {
     "data": {
      "text/plain": [
       "\n",
       "\n",
       "|Variable | True|      Mean|        SD|   BiasMean|    BiasSD|\n",
       "|:--------|----:|---------:|---------:|----------:|---------:|\n",
       "|id       |    0| 0.0000653| 0.0000069|  0.0000653| 0.0000069|\n",
       "|c.1      |    0| 0.2163311| 0.0078020|  0.2163311| 0.0078020|\n",
       "|c.2      |    0| 0.0900983| 0.0079759|  0.0900983| 0.0079759|\n",
       "|x.1      |    1| 0.7284426| 0.0200673| -0.2715574| 0.0200673|\n",
       "|x.2      |    1| 0.7125633| 0.0211577| -0.2874367| 0.0211577|\n",
       "|x.3      |    1| 0.8302471| 0.0047725| -0.1697529| 0.0047725|"
      ]
     },
     "metadata": {},
     "output_type": "display_data"
    },
    {
     "data": {
      "text/plain": [
       "\n",
       "\n",
       "|Variable | True|      Mean|        SD|   BiasMean|    BiasSD|\n",
       "|:--------|----:|---------:|---------:|----------:|---------:|\n",
       "|id       |    0| 0.0000604| 0.0000068|  0.0000604| 0.0000068|\n",
       "|c.1      |    0| 0.1456737| 0.0079487|  0.1456737| 0.0079487|\n",
       "|c.2      |    0| 0.1033448| 0.0081122|  0.1033448| 0.0081122|\n",
       "|x.1      |    1| 1.3858466| 0.0514244|  0.3858466| 0.0514244|\n",
       "|x.2      |    1| 0.7144207| 0.0199056| -0.2855793| 0.0199056|\n",
       "|x.3      |    1| 0.8199566| 0.0050417| -0.1800434| 0.0050417|"
      ]
     },
     "metadata": {},
     "output_type": "display_data"
    },
    {
     "name": "stderr",
     "output_type": "stream",
     "text": [
      "\n",
      "\n",
      " scad  Parameter Estimates for each Scenario\n",
      "\n"
     ]
    },
    {
     "data": {
      "text/plain": [
       "\n",
       "\n",
       "|Variable | True|       Mean|        SD|   BiasMean|    BiasSD|\n",
       "|:--------|----:|----------:|---------:|----------:|---------:|\n",
       "|id       |    0|  0.0000002| 0.0000098|  0.0000002| 0.0000098|\n",
       "|c.1      |    0| -0.0004431| 0.0130341| -0.0004431| 0.0130341|\n",
       "|c.2      |    0|  0.0003240| 0.0104077|  0.0003240| 0.0104077|\n",
       "|x.1      |    1|  1.0002529| 0.0085513|  0.0002529| 0.0085513|\n",
       "|x.2      |    1|  0.9996187| 0.0256804| -0.0003813| 0.0256804|\n",
       "|x.3      |    1|  0.9998516| 0.0186712| -0.0001484| 0.0186712|"
      ]
     },
     "metadata": {},
     "output_type": "display_data"
    },
    {
     "data": {
      "text/plain": [
       "\n",
       "\n",
       "|Variable | True|       Mean|        SD|   BiasMean|    BiasSD|\n",
       "|:--------|----:|----------:|---------:|----------:|---------:|\n",
       "|id       |    0|  0.0000003| 0.0000107|  0.0000003| 0.0000107|\n",
       "|c.1      |    0|  0.0004282| 0.0176848|  0.0004282| 0.0176848|\n",
       "|c.2      |    0| -0.0000988| 0.0122576| -0.0000988| 0.0122576|\n",
       "|x.1      |    1|  0.9998399| 0.0087691| -0.0001601| 0.0087691|\n",
       "|x.2      |    1|  0.9991462| 0.0481312| -0.0008538| 0.0481312|\n",
       "|x.3      |    1|  0.9995298| 0.0191076| -0.0004702| 0.0191076|"
      ]
     },
     "metadata": {},
     "output_type": "display_data"
    },
    {
     "data": {
      "text/plain": [
       "\n",
       "\n",
       "|Variable | True|      Mean|        SD|   BiasMean|    BiasSD|\n",
       "|:--------|----:|---------:|---------:|----------:|---------:|\n",
       "|id       |    0| 0.0000000| 0.0000000|  0.0000000| 0.0000000|\n",
       "|c.1      |    0| 0.0000000| 0.0000000|  0.0000000| 0.0000000|\n",
       "|c.2      |    0| 0.0000006| 0.0000134|  0.0000006| 0.0000134|\n",
       "|x.1      |    1| 0.9999616| 0.0211943| -0.0000384| 0.0211943|\n",
       "|x.2      |    1| 0.9996468| 0.0226182| -0.0003532| 0.0226182|\n",
       "|x.3      |    1| 1.0003004| 0.0059801|  0.0003004| 0.0059801|"
      ]
     },
     "metadata": {},
     "output_type": "display_data"
    },
    {
     "data": {
      "text/plain": [
       "\n",
       "\n",
       "|Variable | True|      Mean|        SD|   BiasMean|    BiasSD|\n",
       "|:--------|----:|---------:|---------:|----------:|---------:|\n",
       "|id       |    0| 0.0000000| 0.0000000|  0.0000000| 0.0000000|\n",
       "|c.1      |    0| 0.0000000| 0.0000000|  0.0000000| 0.0000000|\n",
       "|c.2      |    0| 0.0000000| 0.0000000|  0.0000000| 0.0000000|\n",
       "|x.1      |    1| 0.9978819| 0.0586953| -0.0021181| 0.0586953|\n",
       "|x.2      |    1| 0.9999946| 0.0213078| -0.0000054| 0.0213078|\n",
       "|x.3      |    1| 1.0001684| 0.0059069|  0.0001684| 0.0059069|"
      ]
     },
     "metadata": {},
     "output_type": "display_data"
    },
    {
     "name": "stderr",
     "output_type": "stream",
     "text": [
      "\n",
      "\n",
      " mcp  Parameter Estimates for each Scenario\n",
      "\n"
     ]
    },
    {
     "data": {
      "text/plain": [
       "\n",
       "\n",
       "|Variable | True|       Mean|        SD|   BiasMean|    BiasSD|\n",
       "|:--------|----:|----------:|---------:|----------:|---------:|\n",
       "|id       |    0|  0.0000002| 0.0000098|  0.0000002| 0.0000098|\n",
       "|c.1      |    0| -0.0004431| 0.0130341| -0.0004431| 0.0130341|\n",
       "|c.2      |    0|  0.0003240| 0.0104077|  0.0003240| 0.0104077|\n",
       "|x.1      |    1|  1.0002529| 0.0085513|  0.0002529| 0.0085513|\n",
       "|x.2      |    1|  0.9996187| 0.0256804| -0.0003813| 0.0256804|\n",
       "|x.3      |    1|  0.9998516| 0.0186712| -0.0001484| 0.0186712|"
      ]
     },
     "metadata": {},
     "output_type": "display_data"
    },
    {
     "data": {
      "text/plain": [
       "\n",
       "\n",
       "|Variable | True|       Mean|        SD|   BiasMean|    BiasSD|\n",
       "|:--------|----:|----------:|---------:|----------:|---------:|\n",
       "|id       |    0|  0.0000003| 0.0000107|  0.0000003| 0.0000107|\n",
       "|c.1      |    0|  0.0004282| 0.0176848|  0.0004282| 0.0176848|\n",
       "|c.2      |    0| -0.0000988| 0.0122576| -0.0000988| 0.0122576|\n",
       "|x.1      |    1|  0.9998399| 0.0087691| -0.0001601| 0.0087691|\n",
       "|x.2      |    1|  0.9991462| 0.0481312| -0.0008538| 0.0481312|\n",
       "|x.3      |    1|  0.9995298| 0.0191076| -0.0004702| 0.0191076|"
      ]
     },
     "metadata": {},
     "output_type": "display_data"
    },
    {
     "data": {
      "text/plain": [
       "\n",
       "\n",
       "|Variable | True|      Mean|        SD|   BiasMean|    BiasSD|\n",
       "|:--------|----:|---------:|---------:|----------:|---------:|\n",
       "|id       |    0| 0.0000000| 0.0000000|  0.0000000| 0.0000000|\n",
       "|c.1      |    0| 0.0000000| 0.0000000|  0.0000000| 0.0000000|\n",
       "|c.2      |    0| 0.0000006| 0.0000134|  0.0000006| 0.0000134|\n",
       "|x.1      |    1| 0.9999616| 0.0211943| -0.0000384| 0.0211943|\n",
       "|x.2      |    1| 0.9996468| 0.0226182| -0.0003532| 0.0226182|\n",
       "|x.3      |    1| 1.0003004| 0.0059801|  0.0003004| 0.0059801|"
      ]
     },
     "metadata": {},
     "output_type": "display_data"
    },
    {
     "data": {
      "text/plain": [
       "\n",
       "\n",
       "|Variable | True|      Mean|        SD|   BiasMean|    BiasSD|\n",
       "|:--------|----:|---------:|---------:|----------:|---------:|\n",
       "|id       |    0| 0.0000000| 0.0000000|  0.0000000| 0.0000000|\n",
       "|c.1      |    0| 0.0000000| 0.0000000|  0.0000000| 0.0000000|\n",
       "|c.2      |    0| 0.0000000| 0.0000000|  0.0000000| 0.0000000|\n",
       "|x.1      |    1| 0.9978819| 0.0586953| -0.0021181| 0.0586953|\n",
       "|x.2      |    1| 0.9999946| 0.0213078| -0.0000054| 0.0213078|\n",
       "|x.3      |    1| 1.0001684| 0.0059069|  0.0001684| 0.0059069|"
      ]
     },
     "metadata": {},
     "output_type": "display_data"
    },
    {
     "name": "stderr",
     "output_type": "stream",
     "text": [
      "\n",
      "\n",
      " stepwise  Parameter Estimates for each Scenario\n",
      "\n"
     ]
    },
    {
     "data": {
      "text/plain": [
       "\n",
       "\n",
       "|Variable | True|       Mean|        SD|   BiasMean|    BiasSD|\n",
       "|:--------|----:|----------:|---------:|----------:|---------:|\n",
       "|id       |    0|  0.0000000| 0.0000224|  0.0000000| 0.0000224|\n",
       "|c.1      |    0| -0.0009753| 0.0274231| -0.0009753| 0.0274231|\n",
       "|c.2      |    0|  0.0010376| 0.0257469|  0.0010376| 0.0257469|\n",
       "|x.1      |    1|  1.0002507| 0.0085478|  0.0002507| 0.0085478|\n",
       "|x.2      |    1|  0.9996421| 0.0256979| -0.0003579| 0.0256979|\n",
       "|x.3      |    1|  0.9998616| 0.0186738| -0.0001384| 0.0186738|"
      ]
     },
     "metadata": {},
     "output_type": "display_data"
    },
    {
     "data": {
      "text/plain": [
       "\n",
       "\n",
       "|Variable | True|       Mean|        SD|   BiasMean|    BiasSD|\n",
       "|:--------|----:|----------:|---------:|----------:|---------:|\n",
       "|id       |    0| -0.0000001| 0.0000228| -0.0000001| 0.0000228|\n",
       "|c.1      |    0|  0.0005074| 0.0415138|  0.0005074| 0.0415138|\n",
       "|c.2      |    0|  0.0007822| 0.0264786|  0.0007822| 0.0264786|\n",
       "|x.1      |    1|  0.9998586| 0.0087834| -0.0001414| 0.0087834|\n",
       "|x.2      |    1|  0.9990997| 0.0669147| -0.0009003| 0.0669147|\n",
       "|x.3      |    1|  0.9995024| 0.0191094| -0.0004976| 0.0191094|"
      ]
     },
     "metadata": {},
     "output_type": "display_data"
    },
    {
     "data": {
      "text/plain": [
       "\n",
       "\n",
       "|Variable | True|       Mean|        SD|   BiasMean|    BiasSD|\n",
       "|:--------|----:|----------:|---------:|----------:|---------:|\n",
       "|id       |    0|  0.0000002| 0.0000077|  0.0000002| 0.0000077|\n",
       "|c.1      |    0|  0.0000511| 0.0093955|  0.0000511| 0.0093955|\n",
       "|c.2      |    0| -0.0001261| 0.0088400| -0.0001261| 0.0088400|\n",
       "|x.1      |    1|  0.9998981| 0.0222234| -0.0001019| 0.0222234|\n",
       "|x.2      |    1|  0.9996611| 0.0228689| -0.0003389| 0.0228689|\n",
       "|x.3      |    1|  1.0003031| 0.0059937|  0.0003031| 0.0059937|"
      ]
     },
     "metadata": {},
     "output_type": "display_data"
    },
    {
     "data": {
      "text/plain": [
       "\n",
       "\n",
       "|Variable | True|       Mean|        SD|   BiasMean|    BiasSD|\n",
       "|:--------|----:|----------:|---------:|----------:|---------:|\n",
       "|id       |    0| -0.0000003| 0.0000075| -0.0000003| 0.0000075|\n",
       "|c.1      |    0|  0.0001676| 0.0114853|  0.0001676| 0.0114853|\n",
       "|c.2      |    0| -0.0003215| 0.0089874| -0.0003215| 0.0089874|\n",
       "|x.1      |    1|  0.9971787| 0.0774481| -0.0028213| 0.0774481|\n",
       "|x.2      |    1|  1.0001438| 0.0225188|  0.0001438| 0.0225188|\n",
       "|x.3      |    1|  1.0001558| 0.0059168|  0.0001558| 0.0059168|"
      ]
     },
     "metadata": {},
     "output_type": "display_data"
    }
   ],
   "source": [
    "source(\"interpret_coef_results.R\")\n",
    "\n",
    "all.results <- get.results.data()\n",
    "\n",
    "bias.results.s1 <- all.results[[1]]\n",
    "bias.results.s2 <- all.results[[2]]\n",
    "bias.results.s3 <- all.results[[3]]\n",
    "bias.results.s4 <- all.results[[4]]\n",
    "\n",
    "coef.results.s1 <- all.results[[5]]\n",
    "coef.results.s2 <- all.results[[6]]\n",
    "coef.results.s3 <- all.results[[7]]\n",
    "coef.results.s4 <- all.results[[8]]\n",
    "\n",
    "\n",
    "lr.coef <- coef.tables(method = \"linear\", coef.results.s1, coef.results.s2, coef.results.s3, coef.results.s4)\n",
    "\n",
    "lr.coef.summary.s1 <- lr.coef[[1]]\n",
    "lr.coef.summary.s2 <- lr.coef[[2]]\n",
    "lr.coef.summary.s3 <- lr.coef[[3]]\n",
    "lr.coef.summary.s4 <- lr.coef[[4]]\n",
    "\n",
    "lr.coef.summary.s1 %>% knitr::kable()\n",
    "lr.coef.summary.s2 %>% knitr::kable()\n",
    "lr.coef.summary.s3 %>% knitr::kable()\n",
    "lr.coef.summary.s4 %>% knitr::kable()\n",
    "\n",
    "\n",
    "lasso.coef <- coef.tables(method = \"lasso\", coef.results.s1, coef.results.s2, coef.results.s3, coef.results.s4)\n",
    "\n",
    "lasso.coef.summary.s1 <- lasso.coef[[1]]\n",
    "lasso.coef.summary.s2 <- lasso.coef[[2]]\n",
    "lasso.coef.summary.s3 <- lasso.coef[[3]]\n",
    "lasso.coef.summary.s4 <- lasso.coef[[4]]\n",
    "\n",
    "lasso.coef.summary.s1 %>% knitr::kable()\n",
    "lasso.coef.summary.s2 %>% knitr::kable()\n",
    "lasso.coef.summary.s3 %>% knitr::kable()\n",
    "lasso.coef.summary.s4 %>% knitr::kable()\n",
    "\n",
    "\n",
    "ridge.coef <- coef.tables(method = \"ridge\", coef.results.s1, coef.results.s2, coef.results.s3, coef.results.s4)\n",
    "\n",
    "ridge.coef.summary.s1 <- ridge.coef[[1]]\n",
    "ridge.coef.summary.s2 <- ridge.coef[[2]]\n",
    "ridge.coef.summary.s3 <- ridge.coef[[3]]\n",
    "ridge.coef.summary.s4 <- ridge.coef[[4]]\n",
    "\n",
    "ridge.coef.summary.s1 %>% knitr::kable()\n",
    "ridge.coef.summary.s2 %>% knitr::kable()\n",
    "ridge.coef.summary.s3 %>% knitr::kable()\n",
    "ridge.coef.summary.s4 %>% knitr::kable()\n",
    "\n",
    "\n",
    "scad.coef <- coef.tables(method = \"scad\", coef.results.s1, coef.results.s2, coef.results.s3, coef.results.s4)\n",
    "\n",
    "scad.coef.summary.s1 <- scad.coef[[1]]\n",
    "scad.coef.summary.s2 <- scad.coef[[2]]\n",
    "scad.coef.summary.s3 <- scad.coef[[3]]\n",
    "scad.coef.summary.s4 <- scad.coef[[4]]\n",
    "\n",
    "scad.coef.summary.s1 %>% knitr::kable()\n",
    "scad.coef.summary.s2 %>% knitr::kable()\n",
    "scad.coef.summary.s3 %>% knitr::kable()\n",
    "scad.coef.summary.s4 %>% knitr::kable()\n",
    "\n",
    "\n",
    "mcp.coef <- coef.tables(method = \"mcp\", coef.results.s1, coef.results.s2, coef.results.s3, coef.results.s4)\n",
    "\n",
    "mcp.coef.summary.s1 <- mcp.coef[[1]]\n",
    "mcp.coef.summary.s2 <- mcp.coef[[2]]\n",
    "mcp.coef.summary.s3 <- mcp.coef[[3]]\n",
    "mcp.coef.summary.s4 <- mcp.coef[[4]]\n",
    "\n",
    "mcp.coef.summary.s1 %>% knitr::kable()\n",
    "mcp.coef.summary.s2 %>% knitr::kable()\n",
    "mcp.coef.summary.s3 %>% knitr::kable()\n",
    "mcp.coef.summary.s4 %>% knitr::kable()\n",
    "\n",
    "\n",
    "step.coef <- coef.tables(method = \"stepwise\", coef.results.s1, coef.results.s2, coef.results.s3, coef.results.s4)\n",
    "\n",
    "step.coef.summary.s1 <- step.coef[[1]]\n",
    "step.coef.summary.s2 <- step.coef[[2]]\n",
    "step.coef.summary.s3 <- step.coef[[3]]\n",
    "step.coef.summary.s4 <- step.coef[[4]]\n",
    "\n",
    "step.coef.summary.s1 %>% knitr::kable()\n",
    "step.coef.summary.s2 %>% knitr::kable()\n",
    "step.coef.summary.s3 %>% knitr::kable()\n",
    "step.coef.summary.s4 %>% knitr::kable()\n"
   ]
  },
  {
   "cell_type": "code",
   "execution_count": null,
   "id": "e888320c-5d89-4804-9416-8aadf65944d0",
   "metadata": {},
   "outputs": [],
   "source": []
  }
 ],
 "metadata": {
  "kernelspec": {
   "display_name": "R",
   "language": "R",
   "name": "ir"
  },
  "language_info": {
   "codemirror_mode": "r",
   "file_extension": ".r",
   "mimetype": "text/x-r-source",
   "name": "R",
   "pygments_lexer": "r",
   "version": "4.1.2"
  }
 },
 "nbformat": 4,
 "nbformat_minor": 5
}

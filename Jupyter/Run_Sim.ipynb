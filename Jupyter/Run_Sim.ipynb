{
 "cells": [
  {
   "cell_type": "code",
   "execution_count": 1,
   "id": "49f0664b-6d06-432e-a929-35a2000311f7",
   "metadata": {},
   "outputs": [],
   "source": [
    "# ****************************************\n",
    "# Variable Selection Simulation Study\n",
    "# \n",
    "# Jupyter Notebook Interactive Demonstration!\n",
    "# \n",
    "# Emma Tarmey\n",
    "#\n",
    "# Started:          03/10/2023\n",
    "# Most Recent Edit: 13/10/2023\n",
    "# ****************************************\n",
    "\n"
   ]
  },
  {
   "cell_type": "code",
   "execution_count": 2,
   "id": "c12f5855-072a-4621-869f-05fb8604143c",
   "metadata": {},
   "outputs": [
    {
     "data": {
      "text/html": [
       "'/home/aa22294/Desktop/PhD - Computational Statistics/Projects/Model Selection Sim Study/Code/Jupyter'"
      ],
      "text/latex": [
       "'/home/aa22294/Desktop/PhD - Computational Statistics/Projects/Model Selection Sim Study/Code/Jupyter'"
      ],
      "text/markdown": [
       "'/home/aa22294/Desktop/PhD - Computational Statistics/Projects/Model Selection Sim Study/Code/Jupyter'"
      ],
      "text/plain": [
       "[1] \"/home/aa22294/Desktop/PhD - Computational Statistics/Projects/Model Selection Sim Study/Code/Jupyter\""
      ]
     },
     "metadata": {},
     "output_type": "display_data"
    }
   ],
   "source": [
    "# sanity check file location\n",
    "getwd()\n"
   ]
  },
  {
   "cell_type": "code",
   "execution_count": 3,
   "id": "3e8e8c41-589a-415d-80f4-34bc304fa47e",
   "metadata": {},
   "outputs": [],
   "source": [
    "# pull from R file\n",
    "source(\"../R/simulation.R\")\n",
    "#file.show(\"simulation.R\")\n"
   ]
  },
  {
   "cell_type": "code",
   "execution_count": 4,
   "id": "d286955d-e629-4985-8b30-592855cef05b",
   "metadata": {},
   "outputs": [
    {
     "name": "stderr",
     "output_type": "stream",
     "text": [
      "Scenario  1 / 4\n",
      "\n",
      "Scenario  2 / 4\n",
      "\n",
      "Scenario  3 / 4\n",
      "\n",
      "Scenario  4 / 4\n",
      "\n"
     ]
    }
   ],
   "source": [
    "# run simulation\n",
    "# S = number of scenarios\n",
    "# N = repetitions for this scenario\n",
    "# M = number of VS techniques under investigation \n",
    "# p = number of variables in data (includes id, excludes intercept and outcome y)\n",
    "# n = synthetic data-set size\n",
    "run.simulation(S = 4,\n",
    "               N = 1000,\n",
    "               M = 6,\n",
    "               p = 6,\n",
    "               n = 10000,\n",
    "               messages = FALSE)\n"
   ]
  },
  {
   "cell_type": "code",
   "execution_count": 5,
   "id": "986ef0af-0b44-40fc-83e2-c7a1a677ac51",
   "metadata": {},
   "outputs": [
    {
     "name": "stderr",
     "output_type": "stream",
     "text": [
      "\n",
      "\n",
      "Raw Bias Values:\n",
      "\n",
      "\n",
      "\n",
      "\n",
      "Mean Bias of each VS Technique for each Parameter estimate:\n",
      "\n",
      "\n",
      "\n",
      "Scenario = 1, N = 1000\n",
      "\n",
      "\n",
      "\n",
      "Scenario = 2, N = 1000\n",
      "\n",
      "\n",
      "\n",
      "Scenario = 3, N = 1000\n",
      "\n",
      "\n",
      "\n",
      "Scenario = 4, N = 1000\n",
      "\n"
     ]
    },
    {
     "data": {
      "text/plain": [
       "\n",
       "\n",
       "|Technique |Variable |       Bias|\n",
       "|:---------|:--------|----------:|\n",
       "|linear    |id       | -0.0000011|\n",
       "|lasso     |id       |  0.0000000|\n",
       "|ridge     |id       |  0.0000941|\n",
       "|scad      |id       |  0.0000000|\n",
       "|mcp       |id       |  0.0000000|\n",
       "|stepwise  |id       | -0.0000011|\n",
       "|linear    |c.1      |  0.0002129|\n",
       "|lasso     |c.1      |  0.0000000|\n",
       "|ridge     |c.1      |  0.2590366|\n",
       "|scad      |c.1      | -0.0000151|\n",
       "|mcp       |c.1      | -0.0000151|\n",
       "|stepwise  |c.1      |  0.0002129|\n",
       "|linear    |c.2      | -0.0002393|\n",
       "|lasso     |c.2      |  0.0000000|\n",
       "|ridge     |c.2      |  0.1306120|\n",
       "|scad      |c.2      |  0.0000060|\n",
       "|mcp       |c.2      |  0.0000060|\n",
       "|stepwise  |c.2      | -0.0002393|\n",
       "|linear    |x.1      |  0.0001656|\n",
       "|lasso     |x.1      | -0.0314364|\n",
       "|ridge     |x.1      | -0.4254581|\n",
       "|scad      |x.1      |  0.0001685|\n",
       "|mcp       |x.1      |  0.0001685|\n",
       "|stepwise  |x.1      |  0.0001656|\n",
       "|linear    |x.2      |  0.0001770|\n",
       "|lasso     |x.2      |  0.0303658|\n",
       "|ridge     |x.2      |  0.0896503|\n",
       "|scad      |x.2      |  0.0001929|\n",
       "|mcp       |x.2      |  0.0001929|\n",
       "|stepwise  |x.2      |  0.0001770|\n",
       "|linear    |x.3      |  0.0002186|\n",
       "|lasso     |x.3      | -0.0322999|\n",
       "|ridge     |x.3      | -0.2443775|\n",
       "|scad      |x.3      |  0.0002173|\n",
       "|mcp       |x.3      |  0.0002173|\n",
       "|stepwise  |x.3      |  0.0002186|"
      ]
     },
     "metadata": {},
     "output_type": "display_data"
    },
    {
     "data": {
      "text/plain": [
       "\n",
       "\n",
       "|Technique |Variable |       Bias|\n",
       "|:---------|:--------|----------:|\n",
       "|linear    |id       | -0.0000004|\n",
       "|lasso     |id       |  0.0000000|\n",
       "|ridge     |id       |  0.0000858|\n",
       "|scad      |id       |  0.0000000|\n",
       "|mcp       |id       |  0.0000000|\n",
       "|stepwise  |id       | -0.0000004|\n",
       "|linear    |c.1      | -0.0007450|\n",
       "|lasso     |c.1      |  0.0534689|\n",
       "|ridge     |c.1      |  0.3440651|\n",
       "|scad      |c.1      |  0.0000000|\n",
       "|mcp       |c.1      |  0.0000000|\n",
       "|stepwise  |c.1      | -0.0007450|\n",
       "|linear    |c.2      |  0.0002019|\n",
       "|lasso     |c.2      |  0.0000009|\n",
       "|ridge     |c.2      |  0.1197756|\n",
       "|scad      |c.2      |  0.0000091|\n",
       "|mcp       |c.2      |  0.0000091|\n",
       "|stepwise  |c.2      |  0.0002019|\n",
       "|linear    |x.1      | -0.0000369|\n",
       "|lasso     |x.1      | -0.0199894|\n",
       "|ridge     |x.1      | -0.2809589|\n",
       "|scad      |x.1      | -0.0000382|\n",
       "|mcp       |x.1      | -0.0000382|\n",
       "|stepwise  |x.1      | -0.0000369|\n",
       "|linear    |x.2      |  0.0008361|\n",
       "|lasso     |x.2      | -0.1022298|\n",
       "|ridge     |x.2      | -0.3009074|\n",
       "|scad      |x.2      | -0.0000748|\n",
       "|mcp       |x.2      | -0.0000748|\n",
       "|stepwise  |x.2      |  0.0008361|\n",
       "|linear    |x.3      | -0.0003884|\n",
       "|lasso     |x.3      |  0.0021412|\n",
       "|ridge     |x.3      | -0.1175053|\n",
       "|scad      |x.3      | -0.0003904|\n",
       "|mcp       |x.3      | -0.0003904|\n",
       "|stepwise  |x.3      | -0.0003884|"
      ]
     },
     "metadata": {},
     "output_type": "display_data"
    },
    {
     "data": {
      "text/plain": [
       "\n",
       "\n",
       "|Technique |Variable |       Bias|\n",
       "|:---------|:--------|----------:|\n",
       "|linear    |id       |  0.0000000|\n",
       "|lasso     |id       |  0.0000000|\n",
       "|ridge     |id       |  0.0000655|\n",
       "|scad      |id       |  0.0000000|\n",
       "|mcp       |id       |  0.0000000|\n",
       "|stepwise  |id       |  0.0000000|\n",
       "|linear    |c.1      | -0.0001543|\n",
       "|lasso     |c.1      |  0.0172602|\n",
       "|ridge     |c.1      |  0.2162824|\n",
       "|scad      |c.1      |  0.0000000|\n",
       "|mcp       |c.1      |  0.0000000|\n",
       "|stepwise  |c.1      | -0.0001543|\n",
       "|linear    |c.2      | -0.0001884|\n",
       "|lasso     |c.2      |  0.0000000|\n",
       "|ridge     |c.2      |  0.0898231|\n",
       "|scad      |c.2      |  0.0000000|\n",
       "|mcp       |c.2      |  0.0000000|\n",
       "|stepwise  |c.2      | -0.0001884|\n",
       "|linear    |x.1      | -0.0001220|\n",
       "|lasso     |x.1      | -0.0746999|\n",
       "|ridge     |x.1      | -0.2718800|\n",
       "|scad      |x.1      | -0.0002468|\n",
       "|mcp       |x.1      | -0.0002468|\n",
       "|stepwise  |x.1      | -0.0001220|\n",
       "|linear    |x.2      |  0.0001174|\n",
       "|lasso     |x.2      | -0.0915269|\n",
       "|ridge     |x.2      | -0.2865494|\n",
       "|scad      |x.2      |  0.0000803|\n",
       "|mcp       |x.2      |  0.0000803|\n",
       "|stepwise  |x.2      |  0.0001174|\n",
       "|linear    |x.3      | -0.0000996|\n",
       "|lasso     |x.3      | -0.0024613|\n",
       "|ridge     |x.3      | -0.1697767|\n",
       "|scad      |x.3      | -0.0001001|\n",
       "|mcp       |x.3      | -0.0001001|\n",
       "|stepwise  |x.3      | -0.0000996|"
      ]
     },
     "metadata": {},
     "output_type": "display_data"
    },
    {
     "data": {
      "text/plain": [
       "\n",
       "\n",
       "|Technique |Variable |       Bias|\n",
       "|:---------|:--------|----------:|\n",
       "|linear    |id       |  0.0000000|\n",
       "|lasso     |id       |  0.0000000|\n",
       "|ridge     |id       |  0.0000607|\n",
       "|scad      |id       |  0.0000000|\n",
       "|mcp       |id       |  0.0000000|\n",
       "|stepwise  |id       |  0.0000000|\n",
       "|linear    |c.1      | -0.0002936|\n",
       "|lasso     |c.1      |  0.0091904|\n",
       "|ridge     |c.1      |  0.1449353|\n",
       "|scad      |c.1      |  0.0000000|\n",
       "|mcp       |c.1      |  0.0000000|\n",
       "|stepwise  |c.1      | -0.0002936|\n",
       "|linear    |c.2      |  0.0000298|\n",
       "|lasso     |c.2      |  0.0000000|\n",
       "|ridge     |c.2      |  0.1036923|\n",
       "|scad      |c.2      |  0.0000000|\n",
       "|mcp       |c.2      |  0.0000000|\n",
       "|stepwise  |c.2      |  0.0000298|\n",
       "|linear    |x.1      |  0.0012182|\n",
       "|lasso     |x.1      | -0.0226102|\n",
       "|ridge     |x.1      |  0.3871795|\n",
       "|scad      |x.1      | -0.0000205|\n",
       "|mcp       |x.1      | -0.0000205|\n",
       "|stepwise  |x.1      |  0.0012182|\n",
       "|linear    |x.2      | -0.0002586|\n",
       "|lasso     |x.2      | -0.1140752|\n",
       "|ridge     |x.2      | -0.2859044|\n",
       "|scad      |x.2      | -0.0002924|\n",
       "|mcp       |x.2      | -0.0002924|\n",
       "|stepwise  |x.2      | -0.0002586|\n",
       "|linear    |x.3      | -0.0001294|\n",
       "|lasso     |x.3      |  0.0015854|\n",
       "|ridge     |x.3      | -0.1799660|\n",
       "|scad      |x.3      | -0.0001336|\n",
       "|mcp       |x.3      | -0.0001336|\n",
       "|stepwise  |x.3      | -0.0001294|"
      ]
     },
     "metadata": {},
     "output_type": "display_data"
    },
    {
     "name": "stdout",
     "output_type": "stream",
     "text": [
      "[1] 36\n",
      "[1] 3\n",
      "[1] NA\n"
     ]
    },
    {
     "name": "stderr",
     "output_type": "stream",
     "text": [
      "\n",
      "\n",
      "Changing plot `p1`\n",
      "\n",
      "Changing plot `p2`\n",
      "\n",
      "Changing plot `p3`\n",
      "\n",
      "Changing plot `p4`\n",
      "\n"
     ]
    },
    {
     "name": "stdout",
     "output_type": "stream",
     "text": [
      "[1] \"/home/aa22294/Desktop/PhD - Computational Statistics/Projects/Model Selection Sim Study/Code/R\"\n"
     ]
    },
    {
     "data": {
      "text/html": [
       "<strong>png:</strong> 2"
      ],
      "text/latex": [
       "\\textbf{png:} 2"
      ],
      "text/markdown": [
       "**png:** 2"
      ],
      "text/plain": [
       "png \n",
       "  2 "
      ]
     },
     "metadata": {},
     "output_type": "display_data"
    }
   ],
   "source": [
    "source(\"interpret_bias_results.R\")\n",
    "\n",
    "all.results <- get.results.data()\n",
    "\n",
    "bias.results.s1 <- all.results[[1]]\n",
    "bias.results.s2 <- all.results[[2]]\n",
    "bias.results.s3 <- all.results[[3]]\n",
    "bias.results.s4 <- all.results[[4]]\n",
    "\n",
    "coef.results.s1 <- all.results[[5]]\n",
    "coef.results.s2 <- all.results[[6]]\n",
    "coef.results.s3 <- all.results[[7]]\n",
    "coef.results.s4 <- all.results[[8]]\n",
    "\n",
    "all.means <- bias.tables(bias.results.s1, bias.results.s2, bias.results.s3, bias.results.s4,\n",
    "                         coef.results.s1, coef.results.s2, coef.results.s3, coef.results.s4)\n",
    "\n",
    "s1.bias.means <- all.means[[1]]\n",
    "s2.bias.means <- all.means[[2]]\n",
    "s3.bias.means <- all.means[[3]]\n",
    "s4.bias.means <- all.means[[4]]\n",
    "\n",
    "s1.bias.means %>% knitr::kable()\n",
    "s2.bias.means %>% knitr::kable()\n",
    "s3.bias.means %>% knitr::kable()\n",
    "s4.bias.means %>% knitr::kable()\n",
    "\n",
    "bias.plots(s1.bias.means, s2.bias.means, s3.bias.means, s4.bias.means)\n",
    "\n"
   ]
  },
  {
   "cell_type": "code",
   "execution_count": 6,
   "id": "c0945f4e-f4f1-426a-9744-3b7e27d5871a",
   "metadata": {},
   "outputs": [
    {
     "data": {
      "image/png": "[encoded data removed]",
      "text/plain": [
       "plot without title"
      ]
     },
     "metadata": {
      "image/png": {
       "height": 420,
       "width": 420
      }
     },
     "output_type": "display_data"
    },
    {
     "data": {
      "image/png": "[encoded data removed]",
      "text/plain": [
       "plot without title"
      ]
     },
     "metadata": {
      "image/png": {
       "height": 420,
       "width": 420
      }
     },
     "output_type": "display_data"
    },
    {
     "data": {
      "image/png": "[encoded data removed]",
      "text/plain": [
       "plot without title"
      ]
     },
     "metadata": {
      "image/png": {
       "height": 420,
       "width": 420
      }
     },
     "output_type": "display_data"
    },
    {
     "data": {
      "image/png": "[encoded data removed]",
      "text/plain": [
       "plot without title"
      ]
     },
     "metadata": {
      "image/png": {
       "height": 420,
       "width": 420
      }
     },
     "output_type": "display_data"
    }
   ],
   "source": [
    "library(\"png\")\n",
    "\n",
    "plot.new()\n",
    "pp <- readPNG(\"../plots/bias_s1.png\")\n",
    "rasterImage(pp, 0.00, 0.00, 1.00, 1.00)\n",
    "\n",
    "plot.new()\n",
    "pp <- readPNG(\"../plots/bias_s2.png\")\n",
    "rasterImage(pp, 0.00, 0.00, 1.00, 1.00)\n",
    "\n",
    "plot.new()\n",
    "pp <- readPNG(\"../plots/bias_s3.png\") \n",
    "rasterImage(pp, 0.00, 0.00, 1.00, 1.00)\n",
    "\n",
    "plot.new()\n",
    "pp <- readPNG(\"../plots/bias_s4.png\")\n",
    "rasterImage(pp, 0.00, 0.00, 1.00, 1.00)\n"
   ]
  },
  {
   "cell_type": "code",
   "execution_count": 8,
   "id": "4940e8d2-ada9-4a36-8d7b-d824201d993d",
   "metadata": {},
   "outputs": [
    {
     "name": "stderr",
     "output_type": "stream",
     "text": [
      "\n",
      "\n",
      " linear  Parameter Estimates for each Scenario\n",
      "\n"
     ]
    },
    {
     "data": {
      "text/plain": [
       "\n",
       "\n",
       "|Variable | True|       Mean|        SD|\n",
       "|:--------|----:|----------:|---------:|\n",
       "|id       |    0| -0.0000011| 0.0000100|\n",
       "|c.1      |    0|  0.0002129| 0.0117545|\n",
       "|c.2      |    0| -0.0002393| 0.0117414|\n",
       "|x.1      |    1|  1.0001656| 0.0040014|\n",
       "|x.2      |    1|  1.0001770| 0.0121616|\n",
       "|x.3      |    1|  1.0002186| 0.0085538|"
      ]
     },
     "metadata": {},
     "output_type": "display_data"
    },
    {
     "data": {
      "text/plain": [
       "\n",
       "\n",
       "|Variable | True|       Mean|        SD|\n",
       "|:--------|----:|----------:|---------:|\n",
       "|id       |    0| -0.0000004| 0.0000106|\n",
       "|c.1      |    0| -0.0007450| 0.0195969|\n",
       "|c.2      |    0|  0.0002019| 0.0121621|\n",
       "|x.1      |    1|  0.9999631| 0.0040065|\n",
       "|x.2      |    1|  1.0008361| 0.0301511|\n",
       "|x.3      |    1|  0.9996116| 0.0082889|"
      ]
     },
     "metadata": {},
     "output_type": "display_data"
    },
    {
     "data": {
      "text/plain": [
       "\n",
       "\n",
       "|Variable | True|       Mean|        SD|\n",
       "|:--------|----:|----------:|---------:|\n",
       "|id       |    0|  0.0000000| 0.0000036|\n",
       "|c.1      |    0| -0.0001543| 0.0042633|\n",
       "|c.2      |    0| -0.0001884| 0.0040704|\n",
       "|x.1      |    1|  0.9998780| 0.0096482|\n",
       "|x.2      |    1|  1.0001174| 0.0096590|\n",
       "|x.3      |    1|  0.9999004| 0.0029243|"
      ]
     },
     "metadata": {},
     "output_type": "display_data"
    },
    {
     "data": {
      "text/plain": [
       "\n",
       "\n",
       "|Variable | True|       Mean|        SD|\n",
       "|:--------|----:|----------:|---------:|\n",
       "|id       |    0|  0.0000000| 0.0000034|\n",
       "|c.1      |    0| -0.0002936| 0.0055875|\n",
       "|c.2      |    0|  0.0000298| 0.0040775|\n",
       "|x.1      |    1|  1.0012182| 0.0345646|\n",
       "|x.2      |    1|  0.9997414| 0.0099956|\n",
       "|x.3      |    1|  0.9998706| 0.0029080|"
      ]
     },
     "metadata": {},
     "output_type": "display_data"
    },
    {
     "name": "stderr",
     "output_type": "stream",
     "text": [
      "\n",
      "\n",
      " lasso  Parameter Estimates for each Scenario\n",
      "\n"
     ]
    },
    {
     "data": {
      "text/plain": [
       "\n",
       "\n",
       "|Variable | True|      Mean|        SD|\n",
       "|:--------|----:|---------:|---------:|\n",
       "|id       |    0| 0.0000000| 0.0000000|\n",
       "|c.1      |    0| 0.0000000| 0.0000000|\n",
       "|c.2      |    0| 0.0000000| 0.0000000|\n",
       "|x.1      |    1| 0.9685636| 0.0040449|\n",
       "|x.2      |    1| 1.0303658| 0.0057289|\n",
       "|x.3      |    1| 0.9677001| 0.0075259|"
      ]
     },
     "metadata": {},
     "output_type": "display_data"
    },
    {
     "data": {
      "text/plain": [
       "\n",
       "\n",
       "|Variable | True|      Mean|        SD|\n",
       "|:--------|----:|---------:|---------:|\n",
       "|id       |    0| 0.0000000| 0.0000000|\n",
       "|c.1      |    0| 0.0534689| 0.0178708|\n",
       "|c.2      |    0| 0.0000009| 0.0000174|\n",
       "|x.1      |    1| 0.9800106| 0.0040051|\n",
       "|x.2      |    1| 0.8977702| 0.0302913|\n",
       "|x.3      |    1| 1.0021412| 0.0059855|"
      ]
     },
     "metadata": {},
     "output_type": "display_data"
    },
    {
     "data": {
      "text/plain": [
       "\n",
       "\n",
       "|Variable | True|      Mean|        SD|\n",
       "|:--------|----:|---------:|---------:|\n",
       "|id       |    0| 0.0000000| 0.0000000|\n",
       "|c.1      |    0| 0.0172602| 0.0036009|\n",
       "|c.2      |    0| 0.0000000| 0.0000000|\n",
       "|x.1      |    1| 0.9253001| 0.0096856|\n",
       "|x.2      |    1| 0.9084731| 0.0097729|\n",
       "|x.3      |    1| 0.9975387| 0.0021166|"
      ]
     },
     "metadata": {},
     "output_type": "display_data"
    },
    {
     "data": {
      "text/plain": [
       "\n",
       "\n",
       "|Variable | True|      Mean|        SD|\n",
       "|:--------|----:|---------:|---------:|\n",
       "|id       |    0| 0.0000000| 0.0000000|\n",
       "|c.1      |    0| 0.0091904| 0.0052597|\n",
       "|c.2      |    0| 0.0000000| 0.0000000|\n",
       "|x.1      |    1| 0.9773898| 0.0334488|\n",
       "|x.2      |    1| 0.8859248| 0.0099161|\n",
       "|x.3      |    1| 1.0015854| 0.0021478|"
      ]
     },
     "metadata": {},
     "output_type": "display_data"
    },
    {
     "name": "stderr",
     "output_type": "stream",
     "text": [
      "\n",
      "\n",
      " ridge  Parameter Estimates for each Scenario\n",
      "\n"
     ]
    },
    {
     "data": {
      "text/plain": [
       "\n",
       "\n",
       "|Variable | True|      Mean|        SD|\n",
       "|:--------|----:|---------:|---------:|\n",
       "|id       |    0| 0.0000941| 0.0000086|\n",
       "|c.1      |    0| 0.2590366| 0.0100189|\n",
       "|c.2      |    0| 0.1306120| 0.0099282|\n",
       "|x.1      |    1| 0.5745419| 0.0031405|\n",
       "|x.2      |    1| 1.0896503| 0.0074368|\n",
       "|x.3      |    1| 0.7556225| 0.0077849|"
      ]
     },
     "metadata": {},
     "output_type": "display_data"
    },
    {
     "data": {
      "text/plain": [
       "\n",
       "\n",
       "|Variable | True|      Mean|        SD|\n",
       "|:--------|----:|---------:|---------:|\n",
       "|id       |    0| 0.0000858| 0.0000086|\n",
       "|c.1      |    0| 0.3440651| 0.0093606|\n",
       "|c.2      |    0| 0.1197756| 0.0106119|\n",
       "|x.1      |    1| 0.7190411| 0.0034303|\n",
       "|x.2      |    1| 0.6990926| 0.0158523|\n",
       "|x.3      |    1| 0.8824947| 0.0061420|"
      ]
     },
     "metadata": {},
     "output_type": "display_data"
    },
    {
     "data": {
      "text/plain": [
       "\n",
       "\n",
       "|Variable | True|      Mean|        SD|\n",
       "|:--------|----:|---------:|---------:|\n",
       "|id       |    0| 0.0000655| 0.0000031|\n",
       "|c.1      |    0| 0.2162824| 0.0036935|\n",
       "|c.2      |    0| 0.0898231| 0.0035476|\n",
       "|x.1      |    1| 0.7281200| 0.0089199|\n",
       "|x.2      |    1| 0.7134506| 0.0093327|\n",
       "|x.3      |    1| 0.8302233| 0.0022635|"
      ]
     },
     "metadata": {},
     "output_type": "display_data"
    },
    {
     "data": {
      "text/plain": [
       "\n",
       "\n",
       "|Variable | True|      Mean|        SD|\n",
       "|:--------|----:|---------:|---------:|\n",
       "|id       |    0| 0.0000607| 0.0000029|\n",
       "|c.1      |    0| 0.1449353| 0.0036031|\n",
       "|c.2      |    0| 0.1036923| 0.0036629|\n",
       "|x.1      |    1| 1.3871795| 0.0235988|\n",
       "|x.2      |    1| 0.7140956| 0.0093318|\n",
       "|x.3      |    1| 0.8200340| 0.0023095|"
      ]
     },
     "metadata": {},
     "output_type": "display_data"
    },
    {
     "name": "stderr",
     "output_type": "stream",
     "text": [
      "\n",
      "\n",
      " scad  Parameter Estimates for each Scenario\n",
      "\n"
     ]
    },
    {
     "data": {
      "text/plain": [
       "\n",
       "\n",
       "|Variable | True|       Mean|        SD|\n",
       "|:--------|----:|----------:|---------:|\n",
       "|id       |    0|  0.0000000| 0.0000008|\n",
       "|c.1      |    0| -0.0000151| 0.0006567|\n",
       "|c.2      |    0|  0.0000060| 0.0004741|\n",
       "|x.1      |    1|  1.0001685| 0.0040009|\n",
       "|x.2      |    1|  1.0001929| 0.0121614|\n",
       "|x.3      |    1|  1.0002173| 0.0085505|"
      ]
     },
     "metadata": {},
     "output_type": "display_data"
    },
    {
     "data": {
      "text/plain": [
       "\n",
       "\n",
       "|Variable | True|      Mean|        SD|\n",
       "|:--------|----:|---------:|---------:|\n",
       "|id       |    0| 0.0000000| 0.0000004|\n",
       "|c.1      |    0| 0.0000000| 0.0000011|\n",
       "|c.2      |    0| 0.0000091| 0.0005234|\n",
       "|x.1      |    1| 0.9999618| 0.0040021|\n",
       "|x.2      |    1| 0.9999252| 0.0186695|\n",
       "|x.3      |    1| 0.9996096| 0.0082867|"
      ]
     },
     "metadata": {},
     "output_type": "display_data"
    },
    {
     "data": {
      "text/plain": [
       "\n",
       "\n",
       "|Variable | True|      Mean|        SD|\n",
       "|:--------|----:|---------:|---------:|\n",
       "|id       |    0| 0.0000000| 0.0000000|\n",
       "|c.1      |    0| 0.0000000| 0.0000000|\n",
       "|c.2      |    0| 0.0000000| 0.0000000|\n",
       "|x.1      |    1| 0.9997532| 0.0091046|\n",
       "|x.2      |    1| 1.0000803| 0.0095684|\n",
       "|x.3      |    1| 0.9998999| 0.0029246|"
      ]
     },
     "metadata": {},
     "output_type": "display_data"
    },
    {
     "data": {
      "text/plain": [
       "\n",
       "\n",
       "|Variable | True|      Mean|        SD|\n",
       "|:--------|----:|---------:|---------:|\n",
       "|id       |    0| 0.0000000| 0.0000000|\n",
       "|c.1      |    0| 0.0000000| 0.0000000|\n",
       "|c.2      |    0| 0.0000000| 0.0000000|\n",
       "|x.1      |    1| 0.9999795| 0.0259779|\n",
       "|x.2      |    1| 0.9997076| 0.0096593|\n",
       "|x.3      |    1| 0.9998664| 0.0029090|"
      ]
     },
     "metadata": {},
     "output_type": "display_data"
    },
    {
     "name": "stderr",
     "output_type": "stream",
     "text": [
      "\n",
      "\n",
      " mcp  Parameter Estimates for each Scenario\n",
      "\n"
     ]
    },
    {
     "data": {
      "text/plain": [
       "\n",
       "\n",
       "|Variable | True|       Mean|        SD|\n",
       "|:--------|----:|----------:|---------:|\n",
       "|id       |    0|  0.0000000| 0.0000008|\n",
       "|c.1      |    0| -0.0000151| 0.0006567|\n",
       "|c.2      |    0|  0.0000060| 0.0004741|\n",
       "|x.1      |    1|  1.0001685| 0.0040009|\n",
       "|x.2      |    1|  1.0001929| 0.0121614|\n",
       "|x.3      |    1|  1.0002173| 0.0085505|"
      ]
     },
     "metadata": {},
     "output_type": "display_data"
    },
    {
     "data": {
      "text/plain": [
       "\n",
       "\n",
       "|Variable | True|      Mean|        SD|\n",
       "|:--------|----:|---------:|---------:|\n",
       "|id       |    0| 0.0000000| 0.0000004|\n",
       "|c.1      |    0| 0.0000000| 0.0000011|\n",
       "|c.2      |    0| 0.0000091| 0.0005234|\n",
       "|x.1      |    1| 0.9999618| 0.0040021|\n",
       "|x.2      |    1| 0.9999252| 0.0186695|\n",
       "|x.3      |    1| 0.9996096| 0.0082867|"
      ]
     },
     "metadata": {},
     "output_type": "display_data"
    },
    {
     "data": {
      "text/plain": [
       "\n",
       "\n",
       "|Variable | True|      Mean|        SD|\n",
       "|:--------|----:|---------:|---------:|\n",
       "|id       |    0| 0.0000000| 0.0000000|\n",
       "|c.1      |    0| 0.0000000| 0.0000000|\n",
       "|c.2      |    0| 0.0000000| 0.0000000|\n",
       "|x.1      |    1| 0.9997532| 0.0091046|\n",
       "|x.2      |    1| 1.0000803| 0.0095684|\n",
       "|x.3      |    1| 0.9998999| 0.0029246|"
      ]
     },
     "metadata": {},
     "output_type": "display_data"
    },
    {
     "data": {
      "text/plain": [
       "\n",
       "\n",
       "|Variable | True|      Mean|        SD|\n",
       "|:--------|----:|---------:|---------:|\n",
       "|id       |    0| 0.0000000| 0.0000000|\n",
       "|c.1      |    0| 0.0000000| 0.0000000|\n",
       "|c.2      |    0| 0.0000000| 0.0000000|\n",
       "|x.1      |    1| 0.9999795| 0.0259779|\n",
       "|x.2      |    1| 0.9997076| 0.0096593|\n",
       "|x.3      |    1| 0.9998664| 0.0029090|"
      ]
     },
     "metadata": {},
     "output_type": "display_data"
    },
    {
     "name": "stderr",
     "output_type": "stream",
     "text": [
      "\n",
      "\n",
      " stepwise  Parameter Estimates for each Scenario\n",
      "\n"
     ]
    },
    {
     "data": {
      "text/plain": [
       "\n",
       "\n",
       "|Variable | True|       Mean|        SD|\n",
       "|:--------|----:|----------:|---------:|\n",
       "|id       |    0| -0.0000011| 0.0000100|\n",
       "|c.1      |    0|  0.0002129| 0.0117545|\n",
       "|c.2      |    0| -0.0002393| 0.0117414|\n",
       "|x.1      |    1|  1.0001656| 0.0040014|\n",
       "|x.2      |    1|  1.0001770| 0.0121616|\n",
       "|x.3      |    1|  1.0002186| 0.0085538|"
      ]
     },
     "metadata": {},
     "output_type": "display_data"
    },
    {
     "data": {
      "text/plain": [
       "\n",
       "\n",
       "|Variable | True|       Mean|        SD|\n",
       "|:--------|----:|----------:|---------:|\n",
       "|id       |    0| -0.0000004| 0.0000106|\n",
       "|c.1      |    0| -0.0007450| 0.0195969|\n",
       "|c.2      |    0|  0.0002019| 0.0121621|\n",
       "|x.1      |    1|  0.9999631| 0.0040065|\n",
       "|x.2      |    1|  1.0008361| 0.0301511|\n",
       "|x.3      |    1|  0.9996116| 0.0082889|"
      ]
     },
     "metadata": {},
     "output_type": "display_data"
    },
    {
     "data": {
      "text/plain": [
       "\n",
       "\n",
       "|Variable | True|       Mean|        SD|\n",
       "|:--------|----:|----------:|---------:|\n",
       "|id       |    0|  0.0000000| 0.0000036|\n",
       "|c.1      |    0| -0.0001543| 0.0042633|\n",
       "|c.2      |    0| -0.0001884| 0.0040704|\n",
       "|x.1      |    1|  0.9998780| 0.0096482|\n",
       "|x.2      |    1|  1.0001174| 0.0096590|\n",
       "|x.3      |    1|  0.9999004| 0.0029243|"
      ]
     },
     "metadata": {},
     "output_type": "display_data"
    },
    {
     "data": {
      "text/plain": [
       "\n",
       "\n",
       "|Variable | True|       Mean|        SD|\n",
       "|:--------|----:|----------:|---------:|\n",
       "|id       |    0|  0.0000000| 0.0000034|\n",
       "|c.1      |    0| -0.0002936| 0.0055875|\n",
       "|c.2      |    0|  0.0000298| 0.0040775|\n",
       "|x.1      |    1|  1.0012182| 0.0345646|\n",
       "|x.2      |    1|  0.9997414| 0.0099956|\n",
       "|x.3      |    1|  0.9998706| 0.0029080|"
      ]
     },
     "metadata": {},
     "output_type": "display_data"
    }
   ],
   "source": [
    "source(\"interpret_coef_results.R\")\n",
    "\n",
    "all.results <- get.results.data()\n",
    "\n",
    "bias.results.s1 <- all.results[[1]]\n",
    "bias.results.s2 <- all.results[[2]]\n",
    "bias.results.s3 <- all.results[[3]]\n",
    "bias.results.s4 <- all.results[[4]]\n",
    "\n",
    "coef.results.s1 <- all.results[[5]]\n",
    "coef.results.s2 <- all.results[[6]]\n",
    "coef.results.s3 <- all.results[[7]]\n",
    "coef.results.s4 <- all.results[[8]]\n",
    "\n",
    "\n",
    "lr.coef <- coef.tables(method = \"linear\", coef.results.s1, coef.results.s2, coef.results.s3, coef.results.s4)\n",
    "\n",
    "lr.coef.summary.s1 <- lr.coef[[1]]\n",
    "lr.coef.summary.s2 <- lr.coef[[2]]\n",
    "lr.coef.summary.s3 <- lr.coef[[3]]\n",
    "lr.coef.summary.s4 <- lr.coef[[4]]\n",
    "\n",
    "lr.coef.summary.s1 %>% knitr::kable()\n",
    "lr.coef.summary.s2 %>% knitr::kable()\n",
    "lr.coef.summary.s3 %>% knitr::kable()\n",
    "lr.coef.summary.s4 %>% knitr::kable()\n",
    "\n",
    "\n",
    "lasso.coef <- coef.tables(method = \"lasso\", coef.results.s1, coef.results.s2, coef.results.s3, coef.results.s4)\n",
    "\n",
    "lasso.coef.summary.s1 <- lasso.coef[[1]]\n",
    "lasso.coef.summary.s2 <- lasso.coef[[2]]\n",
    "lasso.coef.summary.s3 <- lasso.coef[[3]]\n",
    "lasso.coef.summary.s4 <- lasso.coef[[4]]\n",
    "\n",
    "lasso.coef.summary.s1 %>% knitr::kable()\n",
    "lasso.coef.summary.s2 %>% knitr::kable()\n",
    "lasso.coef.summary.s3 %>% knitr::kable()\n",
    "lasso.coef.summary.s4 %>% knitr::kable()\n",
    "\n",
    "\n",
    "ridge.coef <- coef.tables(method = \"ridge\", coef.results.s1, coef.results.s2, coef.results.s3, coef.results.s4)\n",
    "\n",
    "ridge.coef.summary.s1 <- ridge.coef[[1]]\n",
    "ridge.coef.summary.s2 <- ridge.coef[[2]]\n",
    "ridge.coef.summary.s3 <- ridge.coef[[3]]\n",
    "ridge.coef.summary.s4 <- ridge.coef[[4]]\n",
    "\n",
    "ridge.coef.summary.s1 %>% knitr::kable()\n",
    "ridge.coef.summary.s2 %>% knitr::kable()\n",
    "ridge.coef.summary.s3 %>% knitr::kable()\n",
    "ridge.coef.summary.s4 %>% knitr::kable()\n",
    "\n",
    "\n",
    "scad.coef <- coef.tables(method = \"scad\", coef.results.s1, coef.results.s2, coef.results.s3, coef.results.s4)\n",
    "\n",
    "scad.coef.summary.s1 <- scad.coef[[1]]\n",
    "scad.coef.summary.s2 <- scad.coef[[2]]\n",
    "scad.coef.summary.s3 <- scad.coef[[3]]\n",
    "scad.coef.summary.s4 <- scad.coef[[4]]\n",
    "\n",
    "scad.coef.summary.s1 %>% knitr::kable()\n",
    "scad.coef.summary.s2 %>% knitr::kable()\n",
    "scad.coef.summary.s3 %>% knitr::kable()\n",
    "scad.coef.summary.s4 %>% knitr::kable()\n",
    "\n",
    "\n",
    "mcp.coef <- coef.tables(method = \"mcp\", coef.results.s1, coef.results.s2, coef.results.s3, coef.results.s4)\n",
    "\n",
    "mcp.coef.summary.s1 <- mcp.coef[[1]]\n",
    "mcp.coef.summary.s2 <- mcp.coef[[2]]\n",
    "mcp.coef.summary.s3 <- mcp.coef[[3]]\n",
    "mcp.coef.summary.s4 <- mcp.coef[[4]]\n",
    "\n",
    "mcp.coef.summary.s1 %>% knitr::kable()\n",
    "mcp.coef.summary.s2 %>% knitr::kable()\n",
    "mcp.coef.summary.s3 %>% knitr::kable()\n",
    "mcp.coef.summary.s4 %>% knitr::kable()\n",
    "\n",
    "\n",
    "step.coef <- coef.tables(method = \"stepwise\", coef.results.s1, coef.results.s2, coef.results.s3, coef.results.s4)\n",
    "\n",
    "step.coef.summary.s1 <- step.coef[[1]]\n",
    "step.coef.summary.s2 <- step.coef[[2]]\n",
    "step.coef.summary.s3 <- step.coef[[3]]\n",
    "step.coef.summary.s4 <- step.coef[[4]]\n",
    "\n",
    "step.coef.summary.s1 %>% knitr::kable()\n",
    "step.coef.summary.s2 %>% knitr::kable()\n",
    "step.coef.summary.s3 %>% knitr::kable()\n",
    "step.coef.summary.s4 %>% knitr::kable()\n"
   ]
  },
  {
   "cell_type": "code",
   "execution_count": null,
   "id": "e888320c-5d89-4804-9416-8aadf65944d0",
   "metadata": {},
   "outputs": [],
   "source": []
  }
 ],
 "metadata": {
  "kernelspec": {
   "display_name": "R",
   "language": "R",
   "name": "ir"
  },
  "language_info": {
   "codemirror_mode": "r",
   "file_extension": ".r",
   "mimetype": "text/x-r-source",
   "name": "R",
   "pygments_lexer": "r",
   "version": "4.1.2"
  }
 },
 "nbformat": 4,
 "nbformat_minor": 5
}

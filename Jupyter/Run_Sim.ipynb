{
 "cells": [
  {
   "cell_type": "code",
   "execution_count": 1,
   "id": "49f0664b-6d06-432e-a929-35a2000311f7",
   "metadata": {},
   "outputs": [],
   "source": [
    "# ****************************************\n",
    "# Variable Selection Simulation Study\n",
    "# \n",
    "# Jupyter Notebook Interactive Demonstration!\n",
    "# \n",
    "# Emma Tarmey\n",
    "#\n",
    "# Started:          03/10/2023\n",
    "# Most Recent Edit: 03/10/2023\n",
    "# ****************************************\n",
    "\n"
   ]
  },
  {
   "cell_type": "code",
   "execution_count": 2,
   "id": "c12f5855-072a-4621-869f-05fb8604143c",
   "metadata": {},
   "outputs": [
    {
     "data": {
      "text/html": [
       "'/home/aa22294/Desktop/PhD - Computational Statistics/Projects/Variable Selection Sim Study/Code/Jupyter'"
      ],
      "text/latex": [
       "'/home/aa22294/Desktop/PhD - Computational Statistics/Projects/Variable Selection Sim Study/Code/Jupyter'"
      ],
      "text/markdown": [
       "'/home/aa22294/Desktop/PhD - Computational Statistics/Projects/Variable Selection Sim Study/Code/Jupyter'"
      ],
      "text/plain": [
       "[1] \"/home/aa22294/Desktop/PhD - Computational Statistics/Projects/Variable Selection Sim Study/Code/Jupyter\""
      ]
     },
     "metadata": {},
     "output_type": "display_data"
    }
   ],
   "source": [
    "getwd()\n"
   ]
  },
  {
   "cell_type": "code",
   "execution_count": 3,
   "id": "3e8e8c41-589a-415d-80f4-34bc304fa47e",
   "metadata": {},
   "outputs": [],
   "source": [
    "source(\"../R/generate_data.R\")\n"
   ]
  },
  {
   "cell_type": "code",
   "execution_count": null,
   "id": "d286955d-e629-4985-8b30-592855cef05b",
   "metadata": {},
   "outputs": [],
   "source": []
  }
 ],
 "metadata": {
  "kernelspec": {
   "display_name": "R",
   "language": "R",
   "name": "ir"
  },
  "language_info": {
   "codemirror_mode": "r",
   "file_extension": ".r",
   "mimetype": "text/x-r-source",
   "name": "R",
   "pygments_lexer": "r",
   "version": "4.1.2"
  }
 },
 "nbformat": 4,
 "nbformat_minor": 5
}
